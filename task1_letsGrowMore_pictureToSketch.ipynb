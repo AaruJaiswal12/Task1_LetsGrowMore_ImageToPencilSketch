{
 "cells": [
  {
   "cell_type": "markdown",
   "id": "255b3ca4",
   "metadata": {},
   "source": [
    "## Importing openCV"
   ]
  },
  {
   "cell_type": "code",
   "execution_count": 45,
   "id": "d3743a90",
   "metadata": {},
   "outputs": [],
   "source": [
    "import cv2"
   ]
  },
  {
   "cell_type": "markdown",
   "id": "1cec06c2",
   "metadata": {},
   "source": [
    "# Reading Image"
   ]
  },
  {
   "cell_type": "code",
   "execution_count": 46,
   "id": "babe26a6",
   "metadata": {},
   "outputs": [],
   "source": [
    "image=cv2.imread(\"dog.jpg\")"
   ]
  },
  {
   "cell_type": "code",
   "execution_count": 47,
   "id": "c70b6679",
   "metadata": {},
   "outputs": [
    {
     "data": {
      "text/plain": [
       "-1"
      ]
     },
     "execution_count": 47,
     "metadata": {},
     "output_type": "execute_result"
    }
   ],
   "source": [
    "cv2.imshow(\"image\",image)\n",
    "cv2.waitKey(0)\n"
   ]
  },
  {
   "cell_type": "markdown",
   "id": "0ffe3e9e",
   "metadata": {},
   "source": [
    "<img src=\"dog.jpg\"/>"
   ]
  },
  {
   "cell_type": "markdown",
   "id": "71ec8aee",
   "metadata": {},
   "source": [
    "# Conversion of original image to grayscale"
   ]
  },
  {
   "cell_type": "code",
   "execution_count": 48,
   "id": "b2507fdb",
   "metadata": {},
   "outputs": [
    {
     "data": {
      "text/plain": [
       "-1"
      ]
     },
     "execution_count": 48,
     "metadata": {},
     "output_type": "execute_result"
    }
   ],
   "source": [
    "gray_image = cv2.cvtColor(image, cv2.COLOR_BGR2GRAY)\n",
    "cv2.imshow(\"New image\", gray_image)\n",
    "cv2.waitKey(0)"
   ]
  },
  {
   "cell_type": "markdown",
   "id": "d8dc90b3",
   "metadata": {},
   "source": [
    "<img src=\"output-onlineimagetools (1).png\"/>"
   ]
  },
  {
   "cell_type": "markdown",
   "id": "0fa49acb",
   "metadata": {},
   "source": [
    "# Conversion of grayscale to inverted image"
   ]
  },
  {
   "cell_type": "code",
   "execution_count": 49,
   "id": "0a08f006",
   "metadata": {},
   "outputs": [
    {
     "data": {
      "text/plain": [
       "-1"
      ]
     },
     "execution_count": 49,
     "metadata": {},
     "output_type": "execute_result"
    }
   ],
   "source": [
    "inverted_image = 255 - gray_image\n",
    "cv2.imshow(\"Inverted\", inverted_image)\n",
    "cv2.waitKey(0)"
   ]
  },
  {
   "cell_type": "markdown",
   "id": "c9b32225",
   "metadata": {},
   "source": [
    "# Blur the img using the Gaussian Function in OpenCV"
   ]
  },
  {
   "cell_type": "code",
   "execution_count": 50,
   "id": "bfb13694",
   "metadata": {},
   "outputs": [],
   "source": [
    "blurred = cv2.GaussianBlur(inverted_image, (21, 21), 0)"
   ]
  },
  {
   "cell_type": "markdown",
   "id": "79e9e509",
   "metadata": {},
   "source": [
    "# inversion of blur img"
   ]
  },
  {
   "cell_type": "code",
   "execution_count": 51,
   "id": "979d3b87",
   "metadata": {},
   "outputs": [],
   "source": [
    "inverted_blurred = 255 - blurred"
   ]
  },
  {
   "cell_type": "markdown",
   "id": "950f356e",
   "metadata": {},
   "source": [
    "# Pencil sketch"
   ]
  },
  {
   "cell_type": "code",
   "execution_count": 52,
   "id": "975bba41",
   "metadata": {},
   "outputs": [
    {
     "data": {
      "text/plain": [
       "-1"
      ]
     },
     "execution_count": 52,
     "metadata": {},
     "output_type": "execute_result"
    }
   ],
   "source": [
    "Pencil_sketch = cv2.divide(gray_image, inverted_blurred, scale=256.0)\n",
    "cv2.imshow(\"Pencil Sketch\", Pencil_sketch)\n",
    "cv2.waitKey(0)"
   ]
  },
  {
   "cell_type": "markdown",
   "id": "4ed932f9",
   "metadata": {},
   "source": [
    "<img src=\"pencilsketchadjusted-3591785.jpg\"/>"
   ]
  },
  {
   "cell_type": "markdown",
   "id": "7131465f",
   "metadata": {},
   "source": [
    "# Comparison of Pencil sketch with original image"
   ]
  },
  {
   "cell_type": "code",
   "execution_count": 53,
   "id": "f7258e15",
   "metadata": {},
   "outputs": [
    {
     "data": {
      "text/plain": [
       "-1"
      ]
     },
     "execution_count": 53,
     "metadata": {},
     "output_type": "execute_result"
    }
   ],
   "source": [
    "cv2.imshow(\"original image\", image)\n",
    "cv2.imshow(\"Pencil sketch\", Pencil_sketch)\n",
    "cv2.waitKey(0)"
   ]
  },
  {
   "cell_type": "code",
   "execution_count": null,
   "id": "d18857d7",
   "metadata": {},
   "outputs": [],
   "source": []
  },
  {
   "cell_type": "code",
   "execution_count": null,
   "id": "b7f805f9",
   "metadata": {},
   "outputs": [],
   "source": []
  }
 ],
 "metadata": {
  "kernelspec": {
   "display_name": "Python 3",
   "language": "python",
   "name": "python3"
  },
  "language_info": {
   "codemirror_mode": {
    "name": "ipython",
    "version": 3
   },
   "file_extension": ".py",
   "mimetype": "text/x-python",
   "name": "python",
   "nbconvert_exporter": "python",
   "pygments_lexer": "ipython3",
   "version": "3.8.8"
  }
 },
 "nbformat": 4,
 "nbformat_minor": 5
}
